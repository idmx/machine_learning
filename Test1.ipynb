{
 "cells": [
  {
   "cell_type": "markdown",
   "id": "8e241037",
   "metadata": {},
   "source": [
    "Перед началом прохождения убедитесь, что все настроено как надо. Во-первых, **перезапустите ядро** (**restart the kernel**) (в панели меню выберите Kernel$\\rightarrow$Restart) и затем **запуск всех ячеек** (**run all cells**) (в панели меню выберите Cell$\\rightarrow$Run All).\n",
    "\n",
    "Убедитесь, что вы заменили всем такие места \n",
    "```python\n",
    "# YOUR CODE HERE\n",
    "raise NotImplementedError()\n",
    "```\n",
    "и\n",
    "```\n",
    "\"YOUR ANSWER HERE\"\n",
    "```\n",
    "на свои решения.\n",
    "\n",
    "> Не переименовывайте ноутбук!\n",
    "\n",
    "Также, заполните свои данные (имя и группу):"
   ]
  },
  {
   "cell_type": "code",
   "execution_count": 1,
   "id": "ea083e72",
   "metadata": {},
   "outputs": [],
   "source": [
    "NAME = \"Вячеслав\"\n",
    "GROUP = \"6492\""
   ]
  },
  {
   "cell_type": "code",
   "execution_count": 2,
   "id": "e84d8783",
   "metadata": {},
   "outputs": [
    {
     "name": "stdout",
     "output_type": "stream",
     "text": [
      "Your uuid is 6ea7b1cb-7dc2-48ce-b7dc-dac965396d5f\n"
     ]
    }
   ],
   "source": [
    "import uuid\n",
    "\n",
    "STUDENT_UUID = uuid.uuid4()\n",
    "print(f\"Your uuid is {STUDENT_UUID}\")"
   ]
  },
  {
   "cell_type": "markdown",
   "id": "cd50394e",
   "metadata": {},
   "source": [
    "---"
   ]
  },
  {
   "cell_type": "markdown",
   "id": "1e47d973",
   "metadata": {
    "deletable": false,
    "editable": false,
    "nbgrader": {
     "cell_type": "markdown",
     "checksum": "a5fdd8dd9fc7d1f23ee32309a435d6ad",
     "grade": false,
     "grade_id": "cell-a157936eae072003",
     "locked": true,
     "schema_version": 3,
     "solution": false,
     "task": false
    }
   },
   "source": [
    "# Приветствуем тебя, путник!\n",
    "\n",
    "Это вторая контрольная работа с некоторыми вопросами по теме задачи регрессии в машинном обучении!\n",
    "\n",
    "Если у вас не установлены какие-то пакеты, то посмотрите нужные версии в ноутбуках по регрессии (10-13).\n",
    "\n",
    "Не забывайте о следующих особенностях:\n",
    "- Помимо указанных тестов после задания существуют и скрытые тесты, поэтому внимательнее читайте задание\n",
    "- Обязательно проверяйте выполнимость на тестах, для проверки перезапустите ядро и запустите все ячейки заново\n",
    "- После скачивания ноутбуков достаточно заполнить места для ответов и отправить ноутбук обратно"
   ]
  },
  {
   "cell_type": "code",
   "execution_count": 3,
   "id": "a063164d",
   "metadata": {
    "deletable": false,
    "editable": false,
    "nbgrader": {
     "cell_type": "code",
     "checksum": "e29e38031e6be94bc55218ebbd24173f",
     "grade": false,
     "grade_id": "cell-ea81f8cd8198e0b2",
     "locked": true,
     "schema_version": 3,
     "solution": false,
     "task": false
    }
   },
   "outputs": [
    {
     "name": "stdout",
     "output_type": "stream",
     "text": [
      "numpy version: 1.21.2\n",
      "pandas version: 1.3.3\n",
      "scikit-learn version: 0.24.2\n"
     ]
    }
   ],
   "source": [
    "import numpy as np\n",
    "print(f\"numpy version: {np.__version__}\")\n",
    "import pandas as pd\n",
    "print(f\"pandas version: {pd.__version__}\")\n",
    "# Just to check that it exists\n",
    "import sklearn\n",
    "print(f\"scikit-learn version: {sklearn.__version__}\")\n",
    "\n",
    "from typing import Tuple, List\n",
    "\n",
    "np.random.seed(123)"
   ]
  },
  {
   "cell_type": "markdown",
   "id": "dd7fa466",
   "metadata": {
    "deletable": false,
    "editable": false,
    "nbgrader": {
     "cell_type": "markdown",
     "checksum": "9bad05a1fa67e52f809c04eb6c522365",
     "grade": false,
     "grade_id": "cell-15c9325584b83940",
     "locked": true,
     "schema_version": 3,
     "solution": false,
     "task": false
    }
   },
   "source": [
    "### Задание 1\n",
    "\n",
    "Реализуйте функцию загрузки данных. В качестве результата необходимо вернуть tuple с DataFrame признаков и Series целевой переменной. Используйте [эту функцию](https://scikit-learn.org/stable/modules/generated/sklearn.datasets.load_diabetes.html) в качестве основы для загрузки датасета диабетов.\n",
    "\n",
    "> Это очень простая задача, но ее важно выполнить, так как она будет использоваться далее по тестам!"
   ]
  },
  {
   "cell_type": "code",
   "execution_count": 4,
   "id": "3377bf31",
   "metadata": {
    "deletable": false,
    "nbgrader": {
     "cell_type": "code",
     "checksum": "1b964b03c507f5d1defb738609f632ca",
     "grade": false,
     "grade_id": "cell-327093fec6a96199",
     "locked": false,
     "schema_version": 3,
     "solution": true,
     "task": false
    }
   },
   "outputs": [],
   "source": [
    "from sklearn.datasets import load_diabetes\n",
    "def load_data() -> Tuple[pd.DataFrame, pd.Series]:\n",
    "    diabetes = sklearn.datasets.load_diabetes(as_frame=True)\n",
    "    X = diabetes.data\n",
    "    y = diabetes.target\n",
    "    return X,y"
   ]
  },
  {
   "cell_type": "code",
   "execution_count": null,
   "id": "231693e5",
   "metadata": {},
   "outputs": [],
   "source": []
  },
  {
   "cell_type": "code",
   "execution_count": 5,
   "id": "7243ab44",
   "metadata": {
    "deletable": false,
    "editable": false,
    "nbgrader": {
     "cell_type": "code",
     "checksum": "696cbdaad0e02a4537f8df4fe4337ef5",
     "grade": true,
     "grade_id": "cell-7e627329ed2ea656",
     "locked": true,
     "points": 1,
     "schema_version": 3,
     "solution": false,
     "task": false
    }
   },
   "outputs": [],
   "source": [
    "X, y = load_data()\n",
    "\n",
    "assert isinstance(X, pd.DataFrame)\n",
    "assert isinstance(y, pd.Series)\n"
   ]
  },
  {
   "cell_type": "markdown",
   "id": "e8481cc6",
   "metadata": {
    "deletable": false,
    "editable": false,
    "nbgrader": {
     "cell_type": "markdown",
     "checksum": "68f26895386a2088085788924a1e600a",
     "grade": false,
     "grade_id": "cell-cd2553f9a8f3b884",
     "locked": true,
     "schema_version": 3,
     "solution": false,
     "task": false
    }
   },
   "source": [
    "### Задание 2\n",
    "\n",
    "Реализуйте функцию поиска признаков в данных с корреляцией выше порога относительно указанной переменной.\n",
    "\n",
    "Необходимо вернуть список имен переменных. Саму переменную необходимо исключить (так как корреляция относительно самого себя всегда = 1)."
   ]
  },
  {
   "cell_type": "code",
   "execution_count": 6,
   "id": "d1222cd0",
   "metadata": {
    "deletable": false,
    "nbgrader": {
     "cell_type": "code",
     "checksum": "db0f149e343be450a678bc678d2bc316",
     "grade": false,
     "grade_id": "cell-7bd0359336964ee1",
     "locked": false,
     "schema_version": 3,
     "solution": true,
     "task": false
    }
   },
   "outputs": [],
   "source": [
    "def get_high_correlation_features(df: pd.DataFrame, col_name: str, threshold: float) -> List[str]:\n",
    "    df_corr = df.corr()\n",
    "    mask = abs(df_corr[col_name]) > threshold\n",
    "    res = []\n",
    "    for i in range(len(mask)):\n",
    "        if (mask[i] == True)&(mask.index[i] != col_name):\n",
    "            res.append(mask.index[i])\n",
    "    return res"
   ]
  },
  {
   "cell_type": "code",
   "execution_count": 7,
   "id": "eb1fde6d",
   "metadata": {
    "deletable": false,
    "editable": false,
    "nbgrader": {
     "cell_type": "code",
     "checksum": "768a1938ac6dc6ef3a4e37517018c7b7",
     "grade": true,
     "grade_id": "cell-136b84cd0900ad11",
     "locked": true,
     "points": 3,
     "schema_version": 3,
     "solution": false,
     "task": false
    }
   },
   "outputs": [],
   "source": [
    "X, y = load_data()\n",
    "df = X.copy()\n",
    "df['target'] = y\n",
    "\n",
    "_test_data = get_high_correlation_features(df, \"target\", threshold=0.35)\n",
    "np.testing.assert_equal(\n",
    "    _test_data, \n",
    "    np.array(['bmi', 'bp', 's3', 's4', 's5', 's6'])\n",
    ")\n"
   ]
  },
  {
   "cell_type": "markdown",
   "id": "0a6b4fcd",
   "metadata": {
    "deletable": false,
    "editable": false,
    "nbgrader": {
     "cell_type": "markdown",
     "checksum": "abbab9e3c774fe3a466c2a8eb6edd0fb",
     "grade": false,
     "grade_id": "cell-4de8ba55b701b6a6",
     "locked": true,
     "schema_version": 3,
     "solution": false,
     "task": false
    }
   },
   "source": [
    "### Задание 3\n",
    "\n",
    "Реализуйте класс для предобработки данных. Предобработка должна включать в себя:\n",
    "- Масштабирование признаков к пределам [-1; 1]\n",
    "- Определение 1го и 3го квартилей по указанному признаку и удаление данных за пределами квартилей по значениям признака. Удалить только данные больше 3го и меньше 1го квартилей (не равно).\n",
    "\n",
    "> Обратите внимание, в каком порядке должны идти операции в transform(), взгляните на то, на каких данных училась модель предобработки в fit()"
   ]
  },
  {
   "cell_type": "code",
   "execution_count": 43,
   "id": "c91386a1",
   "metadata": {
    "deletable": false,
    "nbgrader": {
     "cell_type": "code",
     "checksum": "cff0a8fd4338ac67bf8d95451df3ab5a",
     "grade": false,
     "grade_id": "cell-0da59aa4e9b3e30e",
     "locked": false,
     "schema_version": 3,
     "solution": true,
     "task": false
    }
   },
   "outputs": [],
   "source": [
    "from sklearn.preprocessing import MinMaxScaler\n",
    "class DataPreprocessing:\n",
    "    def __init__(self, quartile_clean_col_name: str):\n",
    "        self.scaler = MinMaxScaler(feature_range=(-1, 1))\n",
    "        self.col = quartile_clean_col_name\n",
    "        pass\n",
    "        \n",
    "    def fit(self, X: pd.DataFrame) -> None:\n",
    "        df_copy = X.copy()\n",
    "        quart1 = df_copy[self.col].quantile(0.25)\n",
    "        quart3 = df_copy[self.col].quantile(0.75)\n",
    "        print(quart1, quart3)\n",
    "        mask = (df_copy[self.col] < quart1)|(df_copy[self.col] > quart3)\n",
    "        self.df = df_copy[~mask]\n",
    "        self.scaler = self.scaler.fit(self.df)\n",
    "        print(np.shape(self.df))\n",
    "        pass\n",
    "        \n",
    "    def transform(self, X: pd.DataFrame) -> pd.DataFrame:\n",
    "        column = self.df.columns\n",
    "        index = self.df.index\n",
    "        df = self.scaler.transform(self.df)\n",
    "        df=pd.DataFrame(data=df,index=index,columns=column)\n",
    "        return df"
   ]
  },
  {
   "cell_type": "code",
   "execution_count": 44,
   "id": "5e55dda2",
   "metadata": {
    "deletable": false,
    "editable": false,
    "nbgrader": {
     "cell_type": "code",
     "checksum": "92f217a0a4f87402fabb2581cdfaf108",
     "grade": true,
     "grade_id": "cell-9e66830003060afc",
     "locked": true,
     "points": 4,
     "schema_version": 3,
     "solution": false,
     "task": false
    }
   },
   "outputs": [
    {
     "name": "stdout",
     "output_type": "stream",
     "text": [
      "-0.032707010720619274 0.02655633567304975\n",
      "(150, 10)\n"
     ]
    },
    {
     "ename": "AssertionError",
     "evalue": "\nItems are not equal:\nitem=0\n\n ACTUAL: 150\n DESIRED: 71",
     "output_type": "error",
     "traceback": [
      "\u001b[1;31m---------------------------------------------------------------------------\u001b[0m",
      "\u001b[1;31mAssertionError\u001b[0m                            Traceback (most recent call last)",
      "\u001b[1;32mC:\\Users\\B527~1\\AppData\\Local\\Temp/ipykernel_7492/3469706103.py\u001b[0m in \u001b[0;36m<module>\u001b[1;34m\u001b[0m\n\u001b[0;32m      9\u001b[0m \u001b[1;33m\u001b[0m\u001b[0m\n\u001b[0;32m     10\u001b[0m \u001b[1;32massert\u001b[0m \u001b[0misinstance\u001b[0m\u001b[1;33m(\u001b[0m\u001b[0m_X_test_prep\u001b[0m\u001b[1;33m,\u001b[0m \u001b[0mpd\u001b[0m\u001b[1;33m.\u001b[0m\u001b[0mDataFrame\u001b[0m\u001b[1;33m)\u001b[0m\u001b[1;33m\u001b[0m\u001b[1;33m\u001b[0m\u001b[0m\n\u001b[1;32m---> 11\u001b[1;33m \u001b[0mnp\u001b[0m\u001b[1;33m.\u001b[0m\u001b[0mtesting\u001b[0m\u001b[1;33m.\u001b[0m\u001b[0massert_equal\u001b[0m\u001b[1;33m(\u001b[0m\u001b[0m_X_test_prep\u001b[0m\u001b[1;33m.\u001b[0m\u001b[0mshape\u001b[0m\u001b[1;33m,\u001b[0m \u001b[1;33m(\u001b[0m\u001b[1;36m71\u001b[0m\u001b[1;33m,\u001b[0m \u001b[1;36m10\u001b[0m\u001b[1;33m)\u001b[0m\u001b[1;33m)\u001b[0m\u001b[1;33m\u001b[0m\u001b[1;33m\u001b[0m\u001b[0m\n\u001b[0m\u001b[0;32m     12\u001b[0m \u001b[1;32massert\u001b[0m \u001b[0m_X_test_prep\u001b[0m\u001b[1;33m[\u001b[0m\u001b[1;34m\"sex\"\u001b[0m\u001b[1;33m]\u001b[0m\u001b[1;33m.\u001b[0m\u001b[0mmin\u001b[0m\u001b[1;33m(\u001b[0m\u001b[1;33m)\u001b[0m \u001b[1;33m<\u001b[0m \u001b[1;33m-\u001b[0m\u001b[1;36m0.95\u001b[0m\u001b[1;33m\u001b[0m\u001b[1;33m\u001b[0m\u001b[0m\n\u001b[0;32m     13\u001b[0m \u001b[1;32massert\u001b[0m \u001b[0m_X_test_prep\u001b[0m\u001b[1;33m[\u001b[0m\u001b[1;34m\"s5\"\u001b[0m\u001b[1;33m]\u001b[0m\u001b[1;33m.\u001b[0m\u001b[0mmax\u001b[0m\u001b[1;33m(\u001b[0m\u001b[1;33m)\u001b[0m \u001b[1;33m>\u001b[0m \u001b[1;36m0.95\u001b[0m\u001b[1;33m\u001b[0m\u001b[1;33m\u001b[0m\u001b[0m\n",
      "    \u001b[1;31m[... skipping hidden 1 frame]\u001b[0m\n",
      "\u001b[1;32m~\\AppData\\Local\\Packages\\PythonSoftwareFoundation.Python.3.9_qbz5n2kfra8p0\\LocalCache\\local-packages\\Python39\\site-packages\\numpy\\testing\\_private\\utils.py\u001b[0m in \u001b[0;36massert_equal\u001b[1;34m(actual, desired, err_msg, verbose)\u001b[0m\n\u001b[0;32m    423\u001b[0m         \u001b[1;31m# Explicitly use __eq__ for comparison, gh-2552\u001b[0m\u001b[1;33m\u001b[0m\u001b[1;33m\u001b[0m\u001b[0m\n\u001b[0;32m    424\u001b[0m         \u001b[1;32mif\u001b[0m \u001b[1;32mnot\u001b[0m \u001b[1;33m(\u001b[0m\u001b[0mdesired\u001b[0m \u001b[1;33m==\u001b[0m \u001b[0mactual\u001b[0m\u001b[1;33m)\u001b[0m\u001b[1;33m:\u001b[0m\u001b[1;33m\u001b[0m\u001b[1;33m\u001b[0m\u001b[0m\n\u001b[1;32m--> 425\u001b[1;33m             \u001b[1;32mraise\u001b[0m \u001b[0mAssertionError\u001b[0m\u001b[1;33m(\u001b[0m\u001b[0mmsg\u001b[0m\u001b[1;33m)\u001b[0m\u001b[1;33m\u001b[0m\u001b[1;33m\u001b[0m\u001b[0m\n\u001b[0m\u001b[0;32m    426\u001b[0m \u001b[1;33m\u001b[0m\u001b[0m\n\u001b[0;32m    427\u001b[0m     \u001b[1;32mexcept\u001b[0m \u001b[1;33m(\u001b[0m\u001b[0mDeprecationWarning\u001b[0m\u001b[1;33m,\u001b[0m \u001b[0mFutureWarning\u001b[0m\u001b[1;33m)\u001b[0m \u001b[1;32mas\u001b[0m \u001b[0me\u001b[0m\u001b[1;33m:\u001b[0m\u001b[1;33m\u001b[0m\u001b[1;33m\u001b[0m\u001b[0m\n",
      "\u001b[1;31mAssertionError\u001b[0m: \nItems are not equal:\nitem=0\n\n ACTUAL: 150\n DESIRED: 71"
     ]
    }
   ],
   "source": [
    "X, y = load_data()\n",
    "\n",
    "_X_train_part = X.iloc[:300]\n",
    "_X_test_part = X.iloc[300:]\n",
    "\n",
    "preprocess = DataPreprocessing(quartile_clean_col_name='s2')\n",
    "preprocess.fit(_X_train_part)\n",
    "_X_test_prep = preprocess.transform(_X_test_part)\n",
    "\n",
    "assert isinstance(_X_test_prep, pd.DataFrame)\n",
    "np.testing.assert_equal(_X_test_prep.shape, (71, 10))\n",
    "assert _X_test_prep[\"sex\"].min() < -0.95\n",
    "assert _X_test_prep[\"s5\"].max() > 0.95\n"
   ]
  },
  {
   "cell_type": "markdown",
   "id": "77ad6069",
   "metadata": {
    "deletable": false,
    "editable": false,
    "nbgrader": {
     "cell_type": "markdown",
     "checksum": "28d36be0e4561ec1e03f605459d2ad33",
     "grade": false,
     "grade_id": "cell-f4e56816d00eb2d3",
     "locked": true,
     "schema_version": 3,
     "solution": false,
     "task": false
    }
   },
   "source": [
    "### Задание 4\n",
    "\n",
    "Реализуйте класс для обучения модели линейной регрессии с вычислением метрик. результирующие ключи метрик смотрите по тестам. В метрики должны входить: MSE, RMSE, MAE, R^2."
   ]
  },
  {
   "cell_type": "code",
   "execution_count": 41,
   "id": "37258376",
   "metadata": {
    "deletable": false,
    "nbgrader": {
     "cell_type": "code",
     "checksum": "75e31c4a5afd30b251fba46ce510456d",
     "grade": false,
     "grade_id": "cell-dfe13046beea8fba",
     "locked": false,
     "schema_version": 3,
     "solution": true,
     "task": false
    }
   },
   "outputs": [],
   "source": [
    "from sklearn.linear_model import LinearRegression\n",
    "from sklearn.metrics import mean_squared_error, mean_absolute_error, r2_score\n",
    "class ModelTrainWithMetrics:\n",
    "    def fit(self, X: pd.DataFrame, y: pd.Series) -> None:\n",
    "        self.model = LinearRegression().fit(X, y)\n",
    "\n",
    "    def predict_evaluate(self, X: pd.DataFrame, y: pd.Series)-> Tuple[np.ndarray, dict]:\n",
    "        y_pred = self.model.predict(X)\n",
    "\n",
    "        metrics = {\n",
    "        \"mse\": mean_squared_error(y, y_pred),\n",
    "        \"mae\": mean_absolute_error(y, y_pred),\n",
    "        \"rmse\": mean_squared_error(y, y_pred, squared=False),\n",
    "        \"r2\": r2_score(y, y_pred)\n",
    "        }\n",
    "        return tuple((y_pred, metrics))\n"
   ]
  },
  {
   "cell_type": "code",
   "execution_count": 42,
   "id": "700711d3",
   "metadata": {
    "deletable": false,
    "editable": false,
    "nbgrader": {
     "cell_type": "code",
     "checksum": "8e56201b868ea5eee10d9f4ef0e6f928",
     "grade": true,
     "grade_id": "cell-c32a1f863b463294",
     "locked": true,
     "points": 3,
     "schema_version": 3,
     "solution": false,
     "task": false
    }
   },
   "outputs": [],
   "source": [
    "from sklearn.model_selection import train_test_split\n",
    "\n",
    "X, y = load_data()\n",
    "X_train, X_test, y_train, y_test = train_test_split(X, y, random_state=42, shuffle=True, test_size=0.3)\n",
    "\n",
    "model = ModelTrainWithMetrics()\n",
    "model.fit(X_train, y_train)\n",
    "y_test_pred, metrics = model.predict_evaluate(X_test, y_test)\n",
    "\n",
    "assert isinstance(metrics, dict)\n",
    "assert isinstance(y_test_pred, np.ndarray)\n",
    "np.testing.assert_equal(set(metrics.keys()), set(['mse', 'mae', 'rmse', 'r2']))\n",
    "\n",
    "assert metrics['r2'] > 0.45\n",
    "assert metrics['rmse'] < 55\n",
    "assert metrics['mae'] < 45\n"
   ]
  },
  {
   "cell_type": "markdown",
   "id": "ab109727",
   "metadata": {
    "deletable": false,
    "editable": false,
    "nbgrader": {
     "cell_type": "markdown",
     "checksum": "f88583ce4dbadf7fdda9764ee47b9cec",
     "grade": false,
     "grade_id": "cell-8963be98c2d31921",
     "locked": true,
     "schema_version": 3,
     "solution": false,
     "task": false
    }
   },
   "source": [
    "### Задание 5\n",
    "\n",
    "Реализуйте функцию сбора статистики данных датасета по каждой числовой колонке.\n",
    "\n",
    "Формат выхода: колонки ~ показатели, строки ~ названия исходных колонок.\n",
    "\n",
    "Требуемые показатели:\n",
    "- Минимальное значение колонки\n",
    "- Максимальное значение колонки\n",
    "- Медианное значение колонки\n",
    "- Среднее значение колонки / Mean value\n",
    "- Стандартное (Среднеквадратическое) отклонение / Standart deviation\n",
    "- Первый квартиль\n",
    "- Третий квартиль\n",
    "- Интерквартильный размах (IQR ~ Interquartile range)"
   ]
  },
  {
   "cell_type": "code",
   "execution_count": 95,
   "id": "6163b336",
   "metadata": {
    "deletable": false,
    "nbgrader": {
     "cell_type": "code",
     "checksum": "be165ac660534a1082304bc806111a82",
     "grade": false,
     "grade_id": "cell-20d8e9a92c0f2714",
     "locked": false,
     "schema_version": 3,
     "solution": true,
     "task": false
    }
   },
   "outputs": [],
   "source": [
    "def collect_statistics(df: pd.DataFrame) -> pd.DataFrame:\n",
    "    columns = ['min', 'max', 'median', 'mean', 'std', 'Q1', 'Q3', 'IQR']\n",
    "    index = df.transpose().index\n",
    "    arr = []\n",
    "    shape = np.shape(df)\n",
    "    arr.append(df.min())\n",
    "    arr.append(df.max())\n",
    "    arr.append(df.median())\n",
    "    arr.append(df.mean())\n",
    "    arr.append(df.std())\n",
    "    arr.append(df.quantile(0.25))\n",
    "    arr.append(df.quantile(0.75))\n",
    "    arr.append(df.quantile(0.75)-df.quantile(0.25))\n",
    "    df = pd.DataFrame(data=np.asarray(arr).transpose(), index=index, columns=columns)\n",
    "    return(df)\n",
    "    \n",
    "   "
   ]
  },
  {
   "cell_type": "code",
   "execution_count": 96,
   "id": "8fb8b704",
   "metadata": {
    "deletable": false,
    "editable": false,
    "nbgrader": {
     "cell_type": "code",
     "checksum": "56a0d00e03f858dace16dd28077e3b68",
     "grade": true,
     "grade_id": "cell-146d7f58a0e36598",
     "locked": true,
     "points": 2,
     "schema_version": 3,
     "solution": false,
     "task": false
    }
   },
   "outputs": [],
   "source": [
    "X, _ = load_data()\n",
    "\n",
    "stats = collect_statistics(X)\n",
    "\n",
    "np.testing.assert_equal(set(stats.index), set(['age', 'sex', 'bmi', 'bp', 's1', 's2', 's3', 's4', 's5', 's6']))\n",
    "np.testing.assert_equal(set(stats.columns), set(['min', 'max', 'median', 'mean', 'std', 'Q1', 'Q3', 'IQR']))\n",
    "\n",
    "np.testing.assert_almost_equal(stats.loc[['age', 'bmi'], 'mean'], [0, 0], decimal=2)\n",
    "np.testing.assert_almost_equal(stats.loc[['s3', 'bp'], 'std'], [0.048, 0.048], decimal=2)\n",
    "np.testing.assert_almost_equal(stats.loc[['s6', 's5'], 'min'], [-0.138, -0.126], decimal=2)\n",
    "np.testing.assert_almost_equal(stats.loc[['s1', 's2'], 'max'], [0.154, 0.199], decimal=2)\n"
   ]
  },
  {
   "cell_type": "markdown",
   "id": "c6e4b5f7",
   "metadata": {
    "deletable": false,
    "editable": false,
    "nbgrader": {
     "cell_type": "markdown",
     "checksum": "57b78bd8a1b13c1d1b652aac51de6560",
     "grade": false,
     "grade_id": "cell-8a8073f3ee54aad7",
     "locked": true,
     "schema_version": 3,
     "solution": false,
     "task": false
    }
   },
   "source": [
    "### Задание 6 (открытый вопрос)\n",
    "\n",
    "Что такое нормализация данных? Почему для линейных моделей так важна нормализация данных (1 балл)?\n",
    "\n",
    "Что такое интерпретируемость весов? Приведите пример(-ы) для объяснения (1 балл).\n",
    "\n",
    "> Если вы пишите ответ на вопрос, но не приводите пример, то балл не засчитывается.\n",
    "\n",
    "> Для примеров кода можно использовать конструкцию внутри markdown ячеек:\n",
    "\n",
    "```python\n",
    "def function_sample():\n",
    "    pass\n",
    "```\n",
    "\n",
    "Или создавать ячейки с кодом и писать в них."
   ]
  },
  {
   "cell_type": "markdown",
   "id": "54d82495",
   "metadata": {
    "deletable": false,
    "nbgrader": {
     "cell_type": "markdown",
     "checksum": "8ecc205a6781d5365deae6db094418d7",
     "grade": true,
     "grade_id": "cell-3c3b6f2545c71a87",
     "locked": false,
     "points": 2,
     "schema_version": 3,
     "solution": true,
     "task": false
    }
   },
   "source": [
    "Нормализация данных - это изменение масштаба данных из исходного диапазона, чтобы все значения находились в диапазоне от 0 до 1. Нормализация необходима, когда данные имеют входные значения разного масштаба и если их не нормализовать, то анализ данных может быть не верным. Для нормализации мы использовали MinMaxScaler()"
   ]
  },
  {
   "cell_type": "markdown",
   "id": "7fdf6b76",
   "metadata": {},
   "source": [
    "Интерпретируемость весов - это когда по весам можно обозначить более важные показатели. Мы рассматривали задачу, в которой при неправильном масштабировании выходило, что посещаемость важнее выполненных заданий. После масштабирования все вернулось на круги своя и веса начали показывать правильные показатели, показывающие реальную картину важности показателей. Масштабирование также с помощью MinMaxScaler()"
   ]
  },
  {
   "cell_type": "markdown",
   "id": "fdb07c92",
   "metadata": {
    "deletable": false,
    "editable": false,
    "nbgrader": {
     "cell_type": "markdown",
     "checksum": "2a27b4ab46535414c61bd7e6e4270398",
     "grade": false,
     "grade_id": "cell-781560edcc71c9d9",
     "locked": true,
     "schema_version": 3,
     "solution": false,
     "task": false
    }
   },
   "source": [
    "### Задание 7 (открытый вопрос)\n",
    "\n",
    "Какие способы визуализации (визуального анализа) данных вы знаете? Приведите примеры (можно отобразить на загруженных данных из задач до этого) (1 балл).\n",
    "\n",
    "Объясните, плюсы и минусы каждого (доп. балл)."
   ]
  },
  {
   "cell_type": "markdown",
   "id": "3d21fd85",
   "metadata": {
    "deletable": false,
    "nbgrader": {
     "cell_type": "markdown",
     "checksum": "4e36a63b39199208c6efe4af35e4c9ba",
     "grade": true,
     "grade_id": "cell-15ec71470c653fb3",
     "locked": false,
     "points": 1,
     "schema_version": 3,
     "solution": true,
     "task": false
    }
   },
   "source": [
    "Визуализация данных при помощи диаграммы рассеяния (plt.scatter(x,y)), линейные графики (ax.plot(x, y)), гистограммы (plt.hist(x, bins=50, density=1, color='g', alpha=0.75)), Bar plots (plt.bar(x_labels, group1_scores)), sns.displot(df_src['RM'], kde=True, height=7, aspect=1.5), sns.pairplot(df_cleaned[features], diag_kind='auto', height=6)"
   ]
  },
  {
   "cell_type": "markdown",
   "id": "1124329f",
   "metadata": {
    "deletable": false,
    "editable": false,
    "nbgrader": {
     "cell_type": "markdown",
     "checksum": "c60f44077d5e58221420443ef42d1e6e",
     "grade": false,
     "grade_id": "cell-3c13e4fd17e802fe",
     "locked": true,
     "schema_version": 3,
     "solution": false,
     "task": false
    }
   },
   "source": [
    "### Задание 8 (открытый вопрос)\n",
    "\n",
    "Объясните эффекты \"недообучения\" и \"переобучения\". Приведите примеры и объясните, как их определить (1 балл).\n",
    "\n",
    "Расскажите о способах борьбы с каждым (1 балл)."
   ]
  },
  {
   "cell_type": "markdown",
   "id": "8ef55fc6",
   "metadata": {
    "deletable": false,
    "nbgrader": {
     "cell_type": "markdown",
     "checksum": "a2a7d51ac9ca661f350c2f44070312e4",
     "grade": true,
     "grade_id": "cell-937e44f06ff6836a",
     "locked": false,
     "points": 2,
     "schema_version": 3,
     "solution": true,
     "task": false
    }
   },
   "source": [
    "Недообучение - это когда модель слишком простая и не полностью описывает объект, так как данные являются неточными и восстановить зависимость не получится. Например, мы брали данные, у которых полиномиальная зависимость и модель можно было описать даже моделью второго порядка. Но с недообучением мы получали линию, проходящую через точки. ПРи этом показатель R2 является низким и по нему можно определить недообучение.\n",
    "\n",
    "Переобучение - это когда модель является слишком сложной. При этом ошибка обучения уменьшается, но ошибка проверки начинает расти. Определить можно с помощью абсолютной средней ошибке (mae), сравнив показатели train и test выборок.\n",
    "\n",
    "Чтобы бороться с данными эффектами необходимо искать оптимальную модель. Это можно делать ориентируясь на показатели, а также визуализируя данные, чтобы увидеть график выборки и полученной модели. Также, можно попробовать увеличить объем обучающей выборки, так как переобучение может возникнуть из-за недостатка данных."
   ]
  }
 ],
 "metadata": {
  "kernelspec": {
   "display_name": "Python 3 (ipykernel)",
   "language": "python",
   "name": "python3"
  },
  "language_info": {
   "codemirror_mode": {
    "name": "ipython",
    "version": 3
   },
   "file_extension": ".py",
   "mimetype": "text/x-python",
   "name": "python",
   "nbconvert_exporter": "python",
   "pygments_lexer": "ipython3",
   "version": "3.9.8"
  }
 },
 "nbformat": 4,
 "nbformat_minor": 5
}
