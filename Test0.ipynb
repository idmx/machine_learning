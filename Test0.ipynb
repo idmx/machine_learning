{
 "cells": [
  {
   "cell_type": "markdown",
   "metadata": {},
   "source": [
    "Перед началом прохождения убедитесь, что все настроено как надо. Во-первых, **перезапустите ядро** (**restart the kernel**) (в панели меню выберите Kernel$\\rightarrow$Restart) и затем **запуск всех ячеек** (**run all cells**) (в панели меню выберите Cell$\\rightarrow$Run All).\n",
    "\n",
    "Убедитесь, что вы заменили всем такие места \n",
    "```python\n",
    "# YOUR CODE HERE\n",
    "raise NotImplementedError()\n",
    "```\n",
    "и\n",
    "```\n",
    "\"YOUR ANSWER HERE\"\n",
    "```\n",
    "на свои решения.\n",
    "\n",
    "> Не переименовывайте ноутбук!\n",
    "\n",
    "Также, заполните свои данные (имя и группу):"
   ]
  },
  {
   "cell_type": "code",
   "execution_count": 1,
   "metadata": {},
   "outputs": [],
   "source": [
    "NAME = \"Вячеслав\"\n",
    "GROUP = \"6492\""
   ]
  },
  {
   "cell_type": "code",
   "execution_count": 2,
   "metadata": {},
   "outputs": [
    {
     "name": "stdout",
     "output_type": "stream",
     "text": [
      "Your uuid is be895489-7177-4470-8aff-0f4aada0fddb\n"
     ]
    }
   ],
   "source": [
    "import uuid\n",
    "\n",
    "STUDENT_UUID = uuid.uuid4()\n",
    "print(f\"Your uuid is {STUDENT_UUID}\")"
   ]
  },
  {
   "cell_type": "markdown",
   "metadata": {},
   "source": [
    "---"
   ]
  },
  {
   "cell_type": "markdown",
   "metadata": {
    "deletable": false,
    "editable": false,
    "nbgrader": {
     "cell_type": "markdown",
     "checksum": "366aaf9f2fe34d5830374122fcc6e658",
     "grade": false,
     "grade_id": "cell-d892cf552738b8b8",
     "locked": true,
     "schema_version": 3,
     "solution": false,
     "task": false
    }
   },
   "source": [
    "# Приветствуем тебя, путник!\n",
    "\n",
    "Это первая контрольная работа с некоторыми вопросами по теме numpy, pandas и python.\n",
    "\n",
    "\n"
   ]
  },
  {
   "cell_type": "code",
   "execution_count": 1,
   "metadata": {
    "deletable": false,
    "editable": false,
    "nbgrader": {
     "cell_type": "code",
     "checksum": "4b0c8af0c12eb2a7619ef3fb01eb0a67",
     "grade": false,
     "grade_id": "cell-7d71a45de0d5e0b5",
     "locked": true,
     "schema_version": 3,
     "solution": false,
     "task": false
    }
   },
   "outputs": [],
   "source": [
    "import numpy as np\n",
    "import pandas as pd\n",
    "\n",
    "np.random.seed(123)"
   ]
  },
  {
   "cell_type": "markdown",
   "metadata": {
    "deletable": false,
    "editable": false,
    "nbgrader": {
     "cell_type": "markdown",
     "checksum": "910af84202264037e52e760d9ebab384",
     "grade": false,
     "grade_id": "cell-4809c9fae0e97422",
     "locked": true,
     "schema_version": 3,
     "solution": false,
     "task": false
    }
   },
   "source": [
    "### Задание 1 (1 балл)\n",
    "\n",
    "Напишите код для разворачивания строки и приведения её к нижнему регистру. \n",
    "\n",
    "Например, на вход подаётся строка \"Привет\", на выходе - \"тевирп\"."
   ]
  },
  {
   "cell_type": "code",
   "execution_count": 7,
   "metadata": {
    "deletable": false,
    "nbgrader": {
     "cell_type": "code",
     "checksum": "67f4119216a990395d97804144027bb8",
     "grade": false,
     "grade_id": "cell-69a75a6a9f247b59",
     "locked": false,
     "schema_version": 3,
     "solution": true,
     "task": false
    }
   },
   "outputs": [],
   "source": [
    "def reverse_string(string: str) -> str:\n",
    "    # YOUR CODE HERE\n",
    "    string = string[::-1].lower()\n",
    "    return string"
   ]
  },
  {
   "cell_type": "code",
   "execution_count": 8,
   "metadata": {
    "deletable": false,
    "editable": false,
    "nbgrader": {
     "cell_type": "code",
     "checksum": "0ad9a73a85d04b7f6c0038ad82563130",
     "grade": true,
     "grade_id": "cell-6c2c7d17e93c9be4",
     "locked": true,
     "points": 1,
     "schema_version": 3,
     "solution": false,
     "task": false
    }
   },
   "outputs": [],
   "source": [
    "assert len(reverse_string(\"hi\")) == 2 \n",
    "assert reverse_string(\"H\") == \"h\"\n",
    "assert reverse_string(\"\") == \"\"\n"
   ]
  },
  {
   "cell_type": "markdown",
   "metadata": {
    "deletable": false,
    "editable": false,
    "nbgrader": {
     "cell_type": "markdown",
     "checksum": "5ff451d83b57c6bfb04641697c685ce2",
     "grade": false,
     "grade_id": "cell-362ed7f98738aaec",
     "locked": true,
     "schema_version": 3,
     "solution": false,
     "task": false
    }
   },
   "source": [
    "### Задание 2 (1 балл)\n",
    "\n",
    "Выведите уникальные строки из входного массива (матрицы)."
   ]
  },
  {
   "cell_type": "code",
   "execution_count": 3,
   "metadata": {
    "deletable": false,
    "nbgrader": {
     "cell_type": "code",
     "checksum": "2f80c6e339b3302eaebfb4d0d3e9da29",
     "grade": false,
     "grade_id": "cell-a83f3275964bb308",
     "locked": false,
     "schema_version": 3,
     "solution": true,
     "task": false
    }
   },
   "outputs": [],
   "source": [
    "def get_unique_rows(matrix: np.ndarray) -> np.ndarray:\n",
    "    # YOUR CODE HERE\n",
    "    matrix = np.unique(matrix,axis=0)\n",
    "    return matrix"
   ]
  },
  {
   "cell_type": "code",
   "execution_count": 4,
   "metadata": {
    "deletable": false,
    "editable": false,
    "nbgrader": {
     "cell_type": "code",
     "checksum": "949cf272976367aca63a659167d9d52c",
     "grade": true,
     "grade_id": "cell-4d50a5c607725df3",
     "locked": true,
     "points": 1,
     "schema_version": 3,
     "solution": false,
     "task": false
    }
   },
   "outputs": [],
   "source": [
    "assert np.allclose(get_unique_rows(np.array([[1]])), [1])\n",
    "assert np.allclose(get_unique_rows(np.array([[1], [1], [1]])), [1])\n",
    "assert np.allclose(get_unique_rows(np.array([[1, 2], [1, 2], [2, 1]])), [[1, 2], [2, 1]])\n"
   ]
  },
  {
   "cell_type": "markdown",
   "metadata": {
    "deletable": false,
    "editable": false,
    "nbgrader": {
     "cell_type": "markdown",
     "checksum": "4b4deaf291181342ce354f290cffc7c6",
     "grade": false,
     "grade_id": "cell-d0f320211c1ccbcd",
     "locked": true,
     "schema_version": 3,
     "solution": false,
     "task": false
    }
   },
   "source": [
    "### Задание 3 (1 балл)\n",
    "\n",
    "Выведите N наибольших значений из массива (матрицы). \n",
    "\n",
    "> Если N больше, чем общее число элементов в массиве, то нужно вернуть весь исходный массив. "
   ]
  },
  {
   "cell_type": "code",
   "execution_count": 5,
   "metadata": {
    "deletable": false,
    "nbgrader": {
     "cell_type": "code",
     "checksum": "0ceac81ad622c6b675f73a494df471c1",
     "grade": false,
     "grade_id": "cell-d4aba3080a3cd06f",
     "locked": false,
     "schema_version": 3,
     "solution": true,
     "task": false
    }
   },
   "outputs": [],
   "source": [
    "def get_n_largest(arr: np.ndarray, n: int) -> np.ndarray:\n",
    "    # YOUR CODE HERE\n",
    "    arr = np.sort(arr)\n",
    "    arr = arr[::-1]\n",
    "    if n > len(arr):\n",
    "        n = len(arr)\n",
    "    a = np.zeros(n)\n",
    "    for i in range(n):\n",
    "        a[i] = arr[i]\n",
    "    print(a)\n",
    "    return a"
   ]
  },
  {
   "cell_type": "code",
   "execution_count": 6,
   "metadata": {
    "deletable": false,
    "editable": false,
    "nbgrader": {
     "cell_type": "code",
     "checksum": "0bd84d771d410f139db3356143890e21",
     "grade": true,
     "grade_id": "cell-922af51c5bbde513",
     "locked": true,
     "points": 1,
     "schema_version": 3,
     "solution": false,
     "task": false
    }
   },
   "outputs": [
    {
     "name": "stdout",
     "output_type": "stream",
     "text": [
      "[3.]\n",
      "[0. 0. 0. 0. 0.]\n"
     ]
    }
   ],
   "source": [
    "assert len(get_n_largest(np.array([2, 1, 3]), 1)) == 1\n",
    "assert np.allclose(get_n_largest(np.zeros(5), 6), np.zeros(5))\n"
   ]
  },
  {
   "cell_type": "markdown",
   "metadata": {
    "deletable": false,
    "editable": false,
    "nbgrader": {
     "cell_type": "markdown",
     "checksum": "84450bcde1e694a755bf546b92ad7788",
     "grade": false,
     "grade_id": "cell-0c29ebdeb5d4ceb5",
     "locked": true,
     "schema_version": 3,
     "solution": false,
     "task": false
    }
   },
   "source": [
    "### Задание 4 (1 балл)\n",
    "\n",
    "Найдите самое часто повторяющееся число в массиве. "
   ]
  },
  {
   "cell_type": "code",
   "execution_count": 9,
   "metadata": {
    "deletable": false,
    "nbgrader": {
     "cell_type": "code",
     "checksum": "137c238f2c09dd0669af2301124ad370",
     "grade": false,
     "grade_id": "cell-db76e26eedba62d1",
     "locked": false,
     "schema_version": 3,
     "solution": true,
     "task": false
    }
   },
   "outputs": [],
   "source": [
    "def get_freq_value(arr: np.ndarray) -> int:\n",
    "    a = set(list(arr))\n",
    "    arr=list(arr)\n",
    "    max = None \n",
    "    max1 = 0\n",
    "    for i in a:\n",
    "        b = arr.count(i)\n",
    "        if b > max1:\n",
    "            max1 = b\n",
    "            max = i \n",
    "    return int(max)\n",
    "    "
   ]
  },
  {
   "cell_type": "code",
   "execution_count": 10,
   "metadata": {
    "deletable": false,
    "editable": false,
    "nbgrader": {
     "cell_type": "code",
     "checksum": "22caf53789675a278ed685798464fed4",
     "grade": true,
     "grade_id": "cell-6617d7118be7f720",
     "locked": true,
     "points": 0,
     "schema_version": 3,
     "solution": false,
     "task": false
    }
   },
   "outputs": [],
   "source": [
    "assert isinstance(get_freq_value(np.random.randint(0, 10, 10)), int)\n",
    "assert get_freq_value(np.array([1, 1])) == 1\n",
    "assert get_freq_value(np.array([1, 3, 2, 2])) == 2\n"
   ]
  },
  {
   "cell_type": "markdown",
   "metadata": {
    "deletable": false,
    "editable": false,
    "nbgrader": {
     "cell_type": "markdown",
     "checksum": "1b57e2ef3405551e4873ff9de6724aad",
     "grade": false,
     "grade_id": "cell-6584d32b893c6288",
     "locked": true,
     "schema_version": 3,
     "solution": false,
     "task": false
    }
   },
   "source": [
    "### Задание 5 (1 балл)\n",
    "\n",
    "Преобразуйте два списка в pandas.Series, где первый списoк - это индексы, а второй - значения. "
   ]
  },
  {
   "cell_type": "code",
   "execution_count": 11,
   "metadata": {
    "deletable": false,
    "nbgrader": {
     "cell_type": "code",
     "checksum": "6a21875f9e77e1fe0136a2d56b50d8e2",
     "grade": false,
     "grade_id": "cell-fa84a84ced474d2f",
     "locked": false,
     "schema_version": 3,
     "solution": true,
     "task": false
    }
   },
   "outputs": [],
   "source": [
    "def get_series(list_1: list, list_2: list) -> pd.Series:\n",
    "    # YOUR CODE HERE\n",
    "    a = pd.Series(list_2, index = list_1)\n",
    "    return a"
   ]
  },
  {
   "cell_type": "code",
   "execution_count": 12,
   "metadata": {
    "deletable": false,
    "editable": false,
    "nbgrader": {
     "cell_type": "code",
     "checksum": "1398b4ad9154c885a438605d7d08cecf",
     "grade": true,
     "grade_id": "cell-110c1c0a2650e2fa",
     "locked": true,
     "points": 1,
     "schema_version": 3,
     "solution": false,
     "task": false
    }
   },
   "outputs": [],
   "source": [
    "assert isinstance(get_series([\"a\"], [1]), pd.Series)\n",
    "assert np.allclose(get_series([\"a\"], [1]).shape, 1)\n",
    "assert all(get_series([\"a\", \"c\"], [1, 3]).index == [\"a\", \"c\"])\n",
    "assert np.allclose(get_series([\"a\", \"c\", \"1\"], [1, 4, 5]).values, [1, 4, 5])\n"
   ]
  },
  {
   "cell_type": "markdown",
   "metadata": {
    "deletable": false,
    "editable": false,
    "nbgrader": {
     "cell_type": "markdown",
     "checksum": "828bcad8d79e26870061fed69899a322",
     "grade": false,
     "grade_id": "cell-746d1fe6e22a28f5",
     "locked": true,
     "schema_version": 3,
     "solution": false,
     "task": false
    }
   },
   "source": [
    "### Задание 6 (1 балл)\n",
    "\n",
    "Разделите одну колонку со строками на 2 колонки: STD, City. "
   ]
  },
  {
   "cell_type": "code",
   "execution_count": 133,
   "metadata": {
    "deletable": false,
    "nbgrader": {
     "cell_type": "code",
     "checksum": "37ff4c4d7914260773839dea11a03bee",
     "grade": false,
     "grade_id": "cell-58dc34e723ed3302",
     "locked": false,
     "schema_version": 3,
     "solution": true,
     "task": false
    }
   },
   "outputs": [],
   "source": [
    "def separate_columns() -> pd.Series: \n",
    "    df = pd.DataFrame(\n",
    "        [\n",
    "            \"STD, City\",\n",
    "            \"33, Kolkata\",\n",
    "            \"44, Chennai\",\n",
    "            \"40, Hyderabad\",\n",
    "            \"80, Bangalore\"\n",
    "        ], \n",
    "        columns=['row']\n",
    "    )\n",
    "    # YOUR CODE HERE\n",
    "    d = df['row']\n",
    "    columns = d[0].split(', ')\n",
    "    dd = list(np.zeros(len(d)-1))\n",
    "    for i in range(1,len(df)):\n",
    "        dd[i-1] = d[i].split(', ')\n",
    "    df = pd.DataFrame (\n",
    "        data = dd[0:len(dd)],\n",
    "        columns = columns\n",
    "    )\n",
    "\n",
    "    return(df)\n"
   ]
  },
  {
   "cell_type": "code",
   "execution_count": 134,
   "metadata": {
    "deletable": false,
    "editable": false,
    "nbgrader": {
     "cell_type": "code",
     "checksum": "50f999880bd5f3874f17d994710210d3",
     "grade": true,
     "grade_id": "cell-ddbd80fb8adda273",
     "locked": true,
     "points": 1,
     "schema_version": 3,
     "solution": false,
     "task": false
    }
   },
   "outputs": [],
   "source": [
    "assert set(separate_columns().columns) == set([\"STD\", \"City\"])\n",
    "assert np.allclose(separate_columns().shape, (4, 2))\n"
   ]
  },
  {
   "cell_type": "markdown",
   "metadata": {
    "deletable": false,
    "editable": false,
    "nbgrader": {
     "cell_type": "markdown",
     "checksum": "ff96ee10f36710479a5521aad5cda645",
     "grade": false,
     "grade_id": "cell-4363dd5e3a0a281e",
     "locked": true,
     "schema_version": 3,
     "solution": false,
     "task": false
    }
   },
   "source": [
    "### Задание 7 (1 балл)\n",
    "\n",
    "Выберите только те строки, в которых животное - это собака, а возраст меньше 3-х, не включая строки с NaN."
   ]
  },
  {
   "cell_type": "code",
   "execution_count": 135,
   "metadata": {
    "deletable": false,
    "nbgrader": {
     "cell_type": "code",
     "checksum": "82a1d18c67d9a2c32509174cc3112461",
     "grade": false,
     "grade_id": "cell-92c17c0ec05456d2",
     "locked": false,
     "schema_version": 3,
     "solution": true,
     "task": false
    }
   },
   "outputs": [],
   "source": [
    "def selection():\n",
    "    df = pd.DataFrame(\n",
    "        zip(['cat', 'cat', 'dog', 'dog', 'dog'], [2.5, 3, 0.5, np.nan, 5]),\n",
    "        columns=[\"animal\", \"age\"]\n",
    "    )\n",
    "    # YOUR CODE HERE\n",
    "    mask = ((df['animal']=='dog')&(df['age']<3))\n",
    "    return df[mask]\n",
    "    "
   ]
  },
  {
   "cell_type": "code",
   "execution_count": 134,
   "metadata": {
    "deletable": false,
    "editable": false,
    "nbgrader": {
     "cell_type": "code",
     "checksum": "b880f9f014599732437a5e0da85fc43c",
     "grade": true,
     "grade_id": "cell-2c583ee44d239300",
     "locked": true,
     "points": 0,
     "schema_version": 3,
     "solution": false,
     "task": false
    }
   },
   "outputs": [
    {
     "name": "stdout",
     "output_type": "stream",
     "text": [
      "  animal  age\n",
      "0    cat  2.5\n",
      "1    cat  3.0\n",
      "2    dog  0.5\n",
      "3    dog  NaN\n",
      "4    dog  5.0\n",
      "  animal  age\n",
      "2    dog  0.5\n",
      "  animal  age\n",
      "0    cat  2.5\n",
      "1    cat  3.0\n",
      "2    dog  0.5\n",
      "3    dog  NaN\n",
      "4    dog  5.0\n",
      "  animal  age\n",
      "2    dog  0.5\n"
     ]
    }
   ],
   "source": [
    "assert np.allclose(selection().shape, (1, 2))\n",
    "assert not (selection().animal.isnull()).all()\n"
   ]
  },
  {
   "cell_type": "markdown",
   "metadata": {
    "deletable": false,
    "editable": false,
    "nbgrader": {
     "cell_type": "markdown",
     "checksum": "7d7965af0ffb634152dca914bb3e07ad",
     "grade": false,
     "grade_id": "cell-fcfffa2402ff8f6c",
     "locked": true,
     "schema_version": 3,
     "solution": false,
     "task": false
    }
   },
   "source": [
    "### Задание 8 (2 балла)\n",
    "\n",
    "Что означает `self` в языке Python? Зачем и где оно используется?\n",
    "\n",
    "> Для примеров кода можно использовать конструкцию:\n",
    "\n",
    "```python\n",
    "def code_sample():\n",
    "    pass\n",
    "```"
   ]
  },
  {
   "cell_type": "markdown",
   "metadata": {
    "deletable": false,
    "nbgrader": {
     "cell_type": "markdown",
     "checksum": "208bbda7e33fcf2417384bf6b75051b6",
     "grade": true,
     "grade_id": "cell-9547a4e31a45077b",
     "locked": false,
     "points": 0,
     "schema_version": 3,
     "solution": true,
     "task": false
    }
   },
   "source": [
    "self - ссылка на определенный экземпляр в классе. Можно использовать и другое имя. То есть при вызове метода в него передается ссылка на объект и внутри метода можно обратиться к ней через self."
   ]
  },
  {
   "cell_type": "markdown",
   "metadata": {
    "deletable": false,
    "editable": false,
    "nbgrader": {
     "cell_type": "markdown",
     "checksum": "c0dd95aa43f7da3aefda58785cba41a0",
     "grade": false,
     "grade_id": "cell-988778783ea66b84",
     "locked": true,
     "schema_version": 3,
     "solution": false,
     "task": false
    }
   },
   "source": [
    "### Задание 9 (2 балла)\n",
    "\n",
    "Опишите `broadcasting` механизм во фреймворке `numpy`. Приведите примеры."
   ]
  },
  {
   "cell_type": "markdown",
   "metadata": {
    "deletable": false,
    "nbgrader": {
     "cell_type": "markdown",
     "checksum": "1bed35b0a266ca432f812352fa384ee9",
     "grade": true,
     "grade_id": "cell-e094babf8b515b35",
     "locked": false,
     "points": 2,
     "schema_version": 3,
     "solution": true,
     "task": false
    }
   },
   "source": [
    "Это автоматическое расширение размерности. Например, np.array([0] * 3) выведет [0,0,0]"
   ]
  },
  {
   "cell_type": "markdown",
   "metadata": {
    "deletable": false,
    "editable": false,
    "nbgrader": {
     "cell_type": "markdown",
     "checksum": "8358cfed3b854f0a69082db2626f3624",
     "grade": false,
     "grade_id": "cell-d7b6bbf03fca2f5b",
     "locked": true,
     "schema_version": 3,
     "solution": false,
     "task": false
    }
   },
   "source": [
    "### Задание 10 (2 балла)\n",
    "\n",
    "В чем разница между `.iloc`, `.loc` и `[]` операторами? Приведите примеры использования и объясните причины применения."
   ]
  },
  {
   "cell_type": "markdown",
   "metadata": {
    "deletable": false,
    "nbgrader": {
     "cell_type": "markdown",
     "checksum": "667e02fedf1799f37a81393ddd6f0ed7",
     "grade": true,
     "grade_id": "cell-37ca0151f6ea53e2",
     "locked": false,
     "points": 2,
     "schema_version": 3,
     "solution": true,
     "task": false
    }
   },
   "source": [
    "loc получает строки по меткам, iloc - по индексам. Если взять loc[1], то вернется столбец с меткой 1, если iloc[1], то строка с индексом 1"
   ]
  }
 ],
 "metadata": {
  "interpreter": {
   "hash": "1dda1f30dc4fb6cdb912d0e90a0ee931d552c09a6231245244ddd07d40dcd840"
  },
  "kernelspec": {
   "display_name": "Python 3.9.7 64-bit (windows store)",
   "name": "python3"
  },
  "language_info": {
   "codemirror_mode": {
    "name": "ipython",
    "version": 3
   },
   "file_extension": ".py",
   "mimetype": "text/x-python",
   "name": "python",
   "nbconvert_exporter": "python",
   "pygments_lexer": "ipython3",
   "version": "3.9.7"
  }
 },
 "nbformat": 4,
 "nbformat_minor": 5
}
