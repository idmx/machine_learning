{
 "cells": [
  {
   "cell_type": "markdown",
   "source": [
    "Перед началом прохождения убедитесь, что все настроено как надо. Во-первых, **перезапустите ядро** (**restart the kernel**) (в панели меню выберите Kernel$\\rightarrow$Restart) и затем **запуск всех ячеек** (**run all cells**) (в панели меню выберите Cell$\\rightarrow$Run All).\n",
    "\n",
    "Убедитесь, что вы заменили всем такие места \n",
    "```python\n",
    "# YOUR CODE HERE\n",
    "raise NotImplementedError()\n",
    "```\n",
    "и\n",
    "```\n",
    "\"YOUR ANSWER HERE\"\n",
    "```\n",
    "на свои решения.\n",
    "\n",
    "Также, заполните свои данные (имя и группу):"
   ],
   "metadata": {}
  },
  {
   "cell_type": "code",
   "execution_count": 1,
   "source": [
    "NAME = \"Вячеслав Завьялов\"\r\n",
    "GROUP = \"6492\""
   ],
   "outputs": [],
   "metadata": {}
  },
  {
   "cell_type": "code",
   "execution_count": 2,
   "source": [
    "import uuid\r\n",
    "\r\n",
    "STUDENT_UUID = uuid.uuid4()\r\n",
    "print(f\"Your uuid is {STUDENT_UUID}\")"
   ],
   "outputs": [
    {
     "output_type": "stream",
     "name": "stdout",
     "text": [
      "Your uuid is cd385d0f-bb2a-4994-8ed8-634151764ce7\n"
     ]
    }
   ],
   "metadata": {}
  },
  {
   "cell_type": "markdown",
   "source": [
    "---"
   ],
   "metadata": {}
  },
  {
   "cell_type": "markdown",
   "source": [
    "# Приветствие\n",
    "\n",
    "Привет, в этом тесте вы познакомитесь с тремя примерами задач, которые будут у вас в будущих контрольных точках. \n",
    "\n",
    "Задачи не сложные и нацелены лишь на то, чтобы просто вы опробовали свои силы и познакомились с форматом!"
   ],
   "metadata": {}
  },
  {
   "cell_type": "markdown",
   "source": [
    "## Задание 1 (1 балл)\n",
    "\n",
    "Напишите код разворачивания списка.\n",
    "\n",
    "Вместо блока\n",
    "```python\n",
    "# YOUR CODE HERE\n",
    "raise NotImplementedError()\n",
    "```\n",
    "нужно реализовать свой код, чтобы он проходил по следующим тестам.\n",
    "\n",
    "Сразу учитывайте, что не все тесты открыты и часть из них будет проверяться после сдачи решения."
   ],
   "metadata": {}
  },
  {
   "cell_type": "code",
   "execution_count": 29,
   "source": [
    "def reverse_list(data: list):\r\n",
    "    data = data[::-1]\r\n",
    "    return(data)"
   ],
   "outputs": [],
   "metadata": {
    "deletable": false,
    "nbgrader": {
     "cell_type": "code",
     "checksum": "61fe39e3e209d485b3f63906f5295e82",
     "grade": false,
     "grade_id": "cell-b7df227e69ae6723",
     "locked": false,
     "schema_version": 3,
     "solution": true,
     "task": false
    }
   }
  },
  {
   "cell_type": "code",
   "execution_count": 30,
   "source": [
    "assert reverse_list([0]) == [0]\r\n",
    "assert reverse_list([3, 2, 1]) == [1, 2, 3]\r\n",
    "assert reverse_list([]) == []\r\n"
   ],
   "outputs": [],
   "metadata": {
    "deletable": false,
    "editable": false,
    "nbgrader": {
     "cell_type": "code",
     "checksum": "a8ccbf8e8fdee94ca580ddbb4da299fb",
     "grade": true,
     "grade_id": "cell-a9075953f720b87b",
     "locked": true,
     "points": 1,
     "schema_version": 3,
     "solution": false,
     "task": false
    }
   }
  },
  {
   "cell_type": "markdown",
   "source": [
    "## Задание 2 (1 балл)\n",
    "\n",
    "Разработайте функцию вычисления площади круга по переданному радиусу. В случае переданного отрицательного радиуса должен вернуться 0."
   ],
   "metadata": {}
  },
  {
   "cell_type": "code",
   "execution_count": 31,
   "source": [
    "import math as m\r\n",
    "\r\n",
    "def compute_circle_area(radius: float):\r\n",
    "    if radius >= 0:\r\n",
    "        return(m.pi*radius**2)\r\n",
    "    else:\r\n",
    "        return 0"
   ],
   "outputs": [],
   "metadata": {
    "deletable": false,
    "nbgrader": {
     "cell_type": "code",
     "checksum": "5a8b121276ad81a51cac3a402938ed93",
     "grade": false,
     "grade_id": "cell-e0913548aff9db16",
     "locked": false,
     "schema_version": 3,
     "solution": true,
     "task": false
    }
   }
  },
  {
   "cell_type": "code",
   "execution_count": 32,
   "source": [
    "assert m.isclose(compute_circle_area(3), 28.274, abs_tol=1e-3)\r\n",
    "assert m.isclose(compute_circle_area(-2), 0)\r\n"
   ],
   "outputs": [],
   "metadata": {
    "deletable": false,
    "editable": false,
    "nbgrader": {
     "cell_type": "code",
     "checksum": "6e1e8fdf9abb25d471ccaf70c766708b",
     "grade": true,
     "grade_id": "cell-4302ce285797495b",
     "locked": true,
     "points": 1,
     "schema_version": 3,
     "solution": false,
     "task": false
    }
   }
  },
  {
   "cell_type": "markdown",
   "source": [
    "## Задание 3 (2 балла)\r\n",
    "\r\n",
    "Ответьте кратко на вопрос.\r\n",
    "Какие бывают типы данных Immutable, а какие Mutable? В чем разница между Immutable и Mutable типами?"
   ],
   "metadata": {}
  },
  {
   "cell_type": "markdown",
   "source": [
    "Неизменяемые типы после создания не могут быть изменены, а изменяемые можно менять на протяжении всей программы. \r\n",
    "Изменяемыми являются list, dict, set, bytearray\r\n",
    "Неизменяемыми являются bool, None, int, float, complex, str, bytes, tuple, range, fronzeset"
   ],
   "metadata": {
    "deletable": false,
    "nbgrader": {
     "cell_type": "markdown",
     "checksum": "b147b36f08d8c1f42bd943bf9bb27c75",
     "grade": true,
     "grade_id": "cell-5008a206312d2427",
     "locked": false,
     "points": 2,
     "schema_version": 3,
     "solution": true,
     "task": false
    }
   }
  }
 ],
 "metadata": {
  "interpreter": {
   "hash": "1dda1f30dc4fb6cdb912d0e90a0ee931d552c09a6231245244ddd07d40dcd840"
  },
  "kernelspec": {
   "name": "python3",
   "display_name": "Python 3.9.7 64-bit (windows store)"
  },
  "language_info": {
   "codemirror_mode": {
    "name": "ipython",
    "version": 3
   },
   "file_extension": ".py",
   "mimetype": "text/x-python",
   "name": "python",
   "nbconvert_exporter": "python",
   "pygments_lexer": "ipython3",
   "version": "3.9.7"
  }
 },
 "nbformat": 4,
 "nbformat_minor": 5
}