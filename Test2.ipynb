{
 "cells": [
  {
   "cell_type": "markdown",
   "id": "5b3d86ed",
   "metadata": {},
   "source": [
    "Перед началом прохождения убедитесь, что все настроено как надо. Во-первых, **перезапустите ядро** (**restart the kernel**) (в панели меню выберите Kernel $\\rightarrow$ Restart) и затем **запуск всех ячеек** (**run all cells**) (в панели меню выберите Cell $\\rightarrow$ Run All).\n",
    "\n",
    "Убедитесь, что вы заменили всем такие места \n",
    "```python\n",
    "# YOUR CODE HERE\n",
    "raise NotImplementedError()\n",
    "```\n",
    "и\n",
    "```\n",
    "\"YOUR ANSWER HERE\"\n",
    "```\n",
    "на свои решения.\n",
    "\n",
    "> Не переименовывайте ноутбук!\n",
    "\n",
    "Также, заполните свои данные (имя и группу):"
   ]
  },
  {
   "cell_type": "code",
   "execution_count": 1,
   "id": "580a298d",
   "metadata": {},
   "outputs": [],
   "source": [
    "NAME = \"Вячеслав\"\n",
    "GROUP = \"6492\""
   ]
  },
  {
   "cell_type": "code",
   "execution_count": 2,
   "id": "f0490d2c",
   "metadata": {},
   "outputs": [
    {
     "name": "stdout",
     "output_type": "stream",
     "text": [
      "Your uuid is 9e57c57e-587b-41d5-ba78-a17639af5410\n"
     ]
    }
   ],
   "source": [
    "import uuid\n",
    "\n",
    "STUDENT_UUID = uuid.uuid4()\n",
    "print(f\"Your uuid is {STUDENT_UUID}\")"
   ]
  },
  {
   "cell_type": "markdown",
   "id": "569e2162",
   "metadata": {},
   "source": [
    "---"
   ]
  },
  {
   "cell_type": "markdown",
   "id": "ba6c331b",
   "metadata": {
    "deletable": false,
    "editable": false,
    "nbgrader": {
     "cell_type": "markdown",
     "checksum": "cfb9cf1505b80d3524d76eb49ca489eb",
     "grade": false,
     "grade_id": "cell-6314f9c6166802af",
     "locked": true,
     "schema_version": 3,
     "solution": false,
     "task": false
    }
   },
   "source": [
    "# И снова здравствуйте!\n",
    "\n",
    "Это третья контрольная работа с некоторыми вопросами по теме классификации в машинном обучении!\n",
    "\n",
    "Если у вас не установлены какие-то пакеты, то посмотрите нужные версии в ноутбуках по классификации (20-23).\n",
    "\n",
    "Не забывайте о следующих особенностях:\n",
    "- Помимо указанных тестов после задания существуют и скрытые тесты, поэтому внимательнее читайте задание\n",
    "- Обязательно проверяйте выполнимость на тестах, для проверки перезапустите ядро и запустите все ячейки заново\n",
    "- После скачивания ноутбуков достаточно заполнить места для ответов и отправить ноутбук обратно"
   ]
  },
  {
   "cell_type": "code",
   "execution_count": 3,
   "id": "af526f4b",
   "metadata": {
    "deletable": false,
    "editable": false,
    "nbgrader": {
     "cell_type": "code",
     "checksum": "1a771234b4adda312bdf14f545441d11",
     "grade": false,
     "grade_id": "cell-2f306df295a9654f",
     "locked": true,
     "schema_version": 3,
     "solution": false,
     "task": false
    }
   },
   "outputs": [
    {
     "name": "stdout",
     "output_type": "stream",
     "text": [
      "numpy version: 1.21.2\n",
      "pandas version: 1.3.3\n",
      "scikit-learn version: 0.24.2\n"
     ]
    }
   ],
   "source": [
    "import numpy as np\n",
    "print(f\"numpy version: {np.__version__}\")\n",
    "import pandas as pd\n",
    "print(f\"pandas version: {pd.__version__}\")\n",
    "# Just to check that it exists\n",
    "import sklearn\n",
    "print(f\"scikit-learn version: {sklearn.__version__}\")\n",
    "\n",
    "from sklearn.datasets import load_iris, load_linnerud\n",
    "\n",
    "from typing import Tuple, List, Union\n",
    "\n",
    "RANDOM_SEED = 123\n",
    "np.random.seed(RANDOM_SEED)"
   ]
  },
  {
   "cell_type": "markdown",
   "id": "500b807d",
   "metadata": {
    "deletable": false,
    "editable": false,
    "nbgrader": {
     "cell_type": "markdown",
     "checksum": "902be5965c8919900ffc083c4dd5f72c",
     "grade": false,
     "grade_id": "cell-f9e85a6c6c3d6200",
     "locked": true,
     "schema_version": 3,
     "solution": false,
     "task": false
    }
   },
   "source": [
    "### Задание 1\n",
    "\n",
    "У вас имеется следующий код и разработчик дает следующее описание:\n",
    "\n",
    "\"Я сделал код для датасета linnerud, который выбирает примеры со значением прыжков меньше 80. Написал как смог =)\"\n",
    "\n",
    "```python\n",
    "valid_data = []\n",
    "for i in range(data.shape[0]):\n",
    "    for j in range(data.shape[1]):\n",
    "        if j == 2:\n",
    "            row = data.iloc[i] \n",
    "            value = row[2]\n",
    "            if value < 80:\n",
    "                valid_data.append(row.name)\n",
    "```\n",
    "\n",
    "Ваша задача - написать код, который выбирает примеры с количеством приседаний от 120 до 250 (не включительно). Для реализации необходимо использовать pandas."
   ]
  },
  {
   "cell_type": "code",
   "execution_count": 4,
   "id": "3ef640b8",
   "metadata": {
    "deletable": false,
    "nbgrader": {
     "cell_type": "code",
     "checksum": "ba04edcf3e15f1943c920bf6b0864e44",
     "grade": false,
     "grade_id": "cell-7acde17a369cca6b",
     "locked": false,
     "schema_version": 3,
     "solution": true,
     "task": false
    }
   },
   "outputs": [],
   "source": [
    "def extract_average_situps_indexes(data: pd.DataFrame) -> list:\n",
    "    mask = (data['Situps']>120) & (data['Situps']<250)\n",
    "    return data[mask].index"
   ]
  },
  {
   "cell_type": "code",
   "execution_count": 5,
   "id": "2f462aab",
   "metadata": {
    "deletable": false,
    "editable": false,
    "nbgrader": {
     "cell_type": "code",
     "checksum": "4ccd8512381b95ef0f25ca0f675d58c3",
     "grade": true,
     "grade_id": "cell-febc2b6e408ff090",
     "locked": true,
     "points": 1,
     "schema_version": 3,
     "solution": false,
     "task": false
    }
   },
   "outputs": [],
   "source": [
    "features, target = load_linnerud(return_X_y=True, as_frame=True)\n",
    "\n",
    "indexes = extract_average_situps_indexes(features)\n",
    "np.testing.assert_array_equal(indexes, [0, 4, 7, 8, 11, 12, 15, 17, 18])\n"
   ]
  },
  {
   "cell_type": "markdown",
   "id": "445ce76a",
   "metadata": {
    "deletable": false,
    "editable": false,
    "nbgrader": {
     "cell_type": "markdown",
     "checksum": "eedfbb5f3c6258a091dc863e11cf56de",
     "grade": false,
     "grade_id": "cell-7300c8a6c34455e4",
     "locked": true,
     "schema_version": 3,
     "solution": false,
     "task": false
    }
   },
   "source": [
    "### Задание 2\n",
    "\n",
    "Напишите класс классификатора, который проверяет значение задаваемой колонки (индекса по порядку) (anomaly_col_idx) и для примеров со значением больше заданного порога (threshold) **по абсолютному значению** записывает в предсказание \"Anomaly!\". Для предсказания используйте LogisticRegression и не забудьте зафиксировать random_state (для этого есть RANDOM_SEED переменная)!\n"
   ]
  },
  {
   "cell_type": "code",
   "execution_count": 6,
   "id": "6ae28219",
   "metadata": {
    "deletable": false,
    "nbgrader": {
     "cell_type": "code",
     "checksum": "1858f9a24051a2e8b03a9e55e529bd30",
     "grade": false,
     "grade_id": "cell-e103e3009e89d76b",
     "locked": false,
     "schema_version": 3,
     "solution": true,
     "task": false
    }
   },
   "outputs": [],
   "source": [
    "from sklearn.linear_model import LogisticRegression\n",
    "class ClassifierWithAnomalyDetection:\n",
    "    def __init__(self, anomaly_col_idx: int, threshold: float):\n",
    "        self.idx = anomaly_col_idx\n",
    "        self.threshold = threshold\n",
    "\n",
    "    def fit(self, X_train: pd.DataFrame, y_train: pd.Series):\n",
    "        self.model = LogisticRegression(random_state=RANDOM_SEED)\n",
    "        self.model.fit(X_train, y_train)\n",
    "\n",
    "    def predict(self, X_test: pd.DataFrame):\n",
    "        mask = abs(X_test.iloc[:,self.idx])>self.threshold\n",
    "        y_pred = self.model.predict(X_test)\n",
    "        for i in range(len(mask)):\n",
    "            if mask[mask.index[i]] == True:\n",
    "                y_pred[i] = \"Anomaly!\"\n",
    "        return y_pred\n",
    "        "
   ]
  },
  {
   "cell_type": "code",
   "execution_count": null,
   "id": "d002d5dd",
   "metadata": {
    "deletable": false,
    "editable": false,
    "nbgrader": {
     "cell_type": "code",
     "checksum": "41b2b81045ef2b841d919b8f5aeedbc2",
     "grade": true,
     "grade_id": "cell-4ac1eb9df6ce8d74",
     "locked": true,
     "points": 2,
     "schema_version": 3,
     "solution": false,
     "task": false
    }
   },
   "outputs": [],
   "source": [
    "from sklearn.datasets import make_classification\n",
    "from sklearn.model_selection import train_test_split\n",
    "\n",
    "# Prepare data for testing\n",
    "X_data, y_data = make_classification(\n",
    "    n_samples=100, \n",
    "    n_features=2, \n",
    "    n_redundant=0,\n",
    "    scale=[1, 10],\n",
    "    random_state=RANDOM_SEED)\n",
    "\n",
    "train_columns = [\"Feature_1\", \"Feature_2\"]\n",
    "target_column = \"target\"\n",
    "\n",
    "df = pd.DataFrame(X_data, columns=train_columns)\n",
    "df[target_column] = pd.Series(y_data).map({0: \"bad\", 1: \"good\"})\n",
    "\n",
    "train_df, test_df = train_test_split(df, test_size=0.3, random_state=RANDOM_SEED)\n",
    "\n",
    "classifier = ClassifierWithAnomalyDetection(anomaly_col_idx=0, threshold=18)\n",
    "    \n",
    "classifier.fit(train_df[train_columns], train_df[target_column])\n",
    "y_pred = classifier.predict(test_df[train_columns])\n",
    "y_true = test_df[target_column]\n",
    "\n",
    "assert \"Anomaly!\" in y_pred\n",
    "assert \"bad\" in y_pred\n",
    "assert \"good\" in y_pred\n",
    "\n",
    "np.testing.assert_equal(len(y_pred), len(test_df))\n"
   ]
  },
  {
   "cell_type": "markdown",
   "id": "f4dc0db2",
   "metadata": {
    "deletable": false,
    "editable": false,
    "nbgrader": {
     "cell_type": "markdown",
     "checksum": "f68ecf9d1bc04a260b966c51f44b0953",
     "grade": false,
     "grade_id": "cell-b4890bc3e51af3c6",
     "locked": true,
     "schema_version": 3,
     "solution": false,
     "task": false
    }
   },
   "source": [
    "### Задание 3\n",
    "\n",
    "Перепешите реализацию кода объединения колонок с использованием pandas:\n",
    "\n",
    "```python\n",
    "df_1_data = df_main.values\n",
    "df_2_data = df_noise.values\n",
    "\n",
    "new_column = [] \n",
    "for i in range(df_1_data.shape[0]):\n",
    "    for j in range(df_1_data.shape[1]):\n",
    "        if j == 0:\n",
    "            for k in range(df_2_data.shape[0]):\n",
    "                for m in range(df_2_data.shape[1]):\n",
    "                    if m == 0:\n",
    "                        if df_1_data[i][j] == df_2_data[k][m]:\n",
    "                            for n in range(df_2_data.shape[1]):\n",
    "                                if n == 1:\n",
    "                                    new_column.append(df_2_data[k][n])\n",
    "df_main = df_main.copy()\n",
    "df_main['has_noise'] = new_column\n",
    "\n",
    "return df_main\n",
    "```"
   ]
  },
  {
   "cell_type": "code",
   "execution_count": null,
   "id": "0a8658b5",
   "metadata": {
    "deletable": false,
    "nbgrader": {
     "cell_type": "code",
     "checksum": "08363f5e92f649ade0d75162d0f9d758",
     "grade": false,
     "grade_id": "cell-ca7c8121aec3672d",
     "locked": false,
     "schema_version": 3,
     "solution": true,
     "task": false
    }
   },
   "outputs": [],
   "source": [
    "def append_noise_column(df_main: pd.DataFrame, df_noise: pd.DataFrame) -> pd.DataFrame:\n",
    "    return df_main.merge(df_noise, on = 'id', how = 'left')"
   ]
  },
  {
   "cell_type": "code",
   "execution_count": null,
   "id": "b36cf4e6",
   "metadata": {
    "deletable": false,
    "editable": false,
    "nbgrader": {
     "cell_type": "code",
     "checksum": "16e44f0b29be631b418a664bd508e007",
     "grade": true,
     "grade_id": "cell-2e3126d36950b822",
     "locked": true,
     "points": 1,
     "schema_version": 3,
     "solution": false,
     "task": false
    }
   },
   "outputs": [],
   "source": [
    "df_main = pd.DataFrame(\n",
    "    [\n",
    "        [1, 1.5], [1, 2.3], \n",
    "        [2, 0.7], [2, 1.6], [2, 3.4], \n",
    "        [3, 0.5], [3, 0.5], [3, 0.5]\n",
    "    ], \n",
    "    columns=[\"id\", \"value\"]\n",
    ")\n",
    "df_noise = pd.DataFrame(\n",
    "    [\n",
    "        [1, True], [2, False], [3, False]\n",
    "    ], \n",
    "    columns=[\"id\", \"has_noise\"]\n",
    ")\n",
    "\n",
    "df_with_noise = append_noise_column(df_main, df_noise)\n",
    "\n",
    "np.testing.assert_array_equal(df_with_noise.columns, [\"id\", \"value\", \"has_noise\"])\n",
    "\n",
    "np.testing.assert_equal(df_with_noise.loc[0, \"has_noise\"], True)\n",
    "np.testing.assert_equal(df_with_noise.loc[4, \"has_noise\"], False)\n",
    "np.testing.assert_equal(df_with_noise.loc[7, \"has_noise\"], False)\n"
   ]
  },
  {
   "cell_type": "markdown",
   "id": "f50d5134",
   "metadata": {
    "deletable": false,
    "editable": false,
    "nbgrader": {
     "cell_type": "markdown",
     "checksum": "086708acbb37d2ef3771cc5703f72738",
     "grade": false,
     "grade_id": "cell-e0d020f6cf0299fb",
     "locked": true,
     "schema_version": 3,
     "solution": false,
     "task": false
    }
   },
   "source": [
    "### Задание 4\n",
    "\n",
    "Найдите индексы строк, где колонка делится на n_div без остатка. Например, значения wine_serving на 3."
   ]
  },
  {
   "cell_type": "code",
   "execution_count": null,
   "id": "e6ac7315",
   "metadata": {
    "deletable": false,
    "nbgrader": {
     "cell_type": "code",
     "checksum": "ccb874e187d9881c4aaaf90f453c5689",
     "grade": false,
     "grade_id": "cell-59c1ff1010ef6ada",
     "locked": false,
     "schema_version": 3,
     "solution": true,
     "task": false
    }
   },
   "outputs": [],
   "source": [
    "def get_n_divisible_indexes(df: pd.DataFrame, column_name: str, n_div: int) -> list:\n",
    "    mask = (df[column_name] % n_div) == 0\n",
    "    df = df[mask]\n",
    "    return df.index"
   ]
  },
  {
   "cell_type": "code",
   "execution_count": null,
   "id": "c06273c4",
   "metadata": {
    "deletable": false,
    "editable": false,
    "nbgrader": {
     "cell_type": "code",
     "checksum": "f201e7b4ffa15c54520f28c01bf56542",
     "grade": true,
     "grade_id": "cell-4de68c6a6140e85e",
     "locked": true,
     "points": 1,
     "schema_version": 3,
     "solution": false,
     "task": false
    }
   },
   "outputs": [],
   "source": [
    "features, target = load_linnerud(return_X_y=True, as_frame=True)\n",
    "\n",
    "indexes = get_n_divisible_indexes(features, \"Jumps\", 5)\n",
    "np.testing.assert_array_equal(indexes, [0,  1,  7,  8,  9, 11, 12, 13, 15, 16, 17])\n"
   ]
  },
  {
   "cell_type": "markdown",
   "id": "d6263527",
   "metadata": {
    "deletable": false,
    "editable": false,
    "nbgrader": {
     "cell_type": "markdown",
     "checksum": "6e79f417081db8afc8519a0c85f58016",
     "grade": false,
     "grade_id": "cell-cde1d12e01d79da6",
     "locked": true,
     "schema_version": 3,
     "solution": false,
     "task": false
    }
   },
   "source": [
    "### Задание 5\n",
    "\n",
    "Напишите функцию, которая строит confusion matrix (true ~ rows, pred ~ cols) по заданным классам по осям. Остальные классы скидываются в объединенный класс \"Другое\".\n",
    "\n",
    "Например, имеем:\n",
    "\n",
    "```python\n",
    "y_true = [0, 1, 1, 2, 2, 3, 1, 1]\n",
    "y_pred = [1, 1, 1, 3, 2, 3, 1, 0]\n",
    "```\n",
    "\n",
    "Мы задаем целевые классы\n",
    "\n",
    "```python\n",
    "true_classes = [0, 1]\n",
    "pred_classes = [1, 2]\n",
    "```\n",
    "\n",
    "Должна получиться матрица (DataFrame) с соответсвующими именами строк и колонок.\n",
    "\n",
    "|    |  1 | 2  | Другое |\n",
    "|---:|:--:|:--:|:--:  |\n",
    "| 0  | 1  | 0  |    0    |\n",
    "| 1  | 3  | 0  |   1     |\n",
    "|Другое| 0 | 1   |   2     |\n"
   ]
  },
  {
   "cell_type": "code",
   "execution_count": null,
   "id": "bcb9d435",
   "metadata": {
    "deletable": false,
    "nbgrader": {
     "cell_type": "code",
     "checksum": "3ba9e48dfff424ce8f889b200cc6f327",
     "grade": false,
     "grade_id": "cell-e7f2339d39aba75b",
     "locked": false,
     "schema_version": 3,
     "solution": true,
     "task": false
    }
   },
   "outputs": [],
   "source": [
    "def custom_confusion_matrix(y_true: list, y_pred: list, true_classes: list, pred_classes:list) -> pd.DataFrame:\n",
    "    true_classes.append(\"Другое\")\n",
    "    pred_classes.append(\"Другое\")\n",
    "    data = np.zeros(shape = (len(true_classes), len(pred_classes)))\n",
    "    df = pd.DataFrame(data, index= true_classes ,columns= pred_classes)\n",
    "\n",
    "    def classes (i, classesValue):\n",
    "        if i in classesValue:\n",
    "            return i\n",
    "        else:\n",
    "            return \"Другое\"\n",
    "\n",
    "    for i in range(len(y_true)):\n",
    "        y_true[i] = classes(y_true[i], true_classes)\n",
    "        y_pred[i] = classes(y_pred[i], pred_classes)\n",
    "        df.loc[y_true[i], y_pred[i]] +=1\n",
    "\n",
    "    return df"
   ]
  },
  {
   "cell_type": "code",
   "execution_count": null,
   "id": "b08346da",
   "metadata": {
    "deletable": false,
    "editable": false,
    "nbgrader": {
     "cell_type": "code",
     "checksum": "fdc0839bca9de353464487fe5bf140ea",
     "grade": true,
     "grade_id": "cell-b9e22341db021252",
     "locked": true,
     "points": 1,
     "schema_version": 3,
     "solution": false,
     "task": false
    }
   },
   "outputs": [],
   "source": [
    "y_true = [0, 1, 1, 2, 2, 3, 1, 1]\n",
    "y_pred = [1, 1, 1, 3, 2, 3, 1, 0]\n",
    "\n",
    "true_classes = [0, 1]\n",
    "pred_classes = [1, 2]\n",
    "\n",
    "conf = custom_confusion_matrix(y_true, y_pred, true_classes, pred_classes)\n",
    "assert isinstance(conf, pd.DataFrame)\n",
    "np.testing.assert_array_equal(conf.columns, np.array([1, 2, \"Другое\"], dtype=object))\n",
    "np.testing.assert_array_equal(conf.index, np.array([0, 1, \"Другое\"], dtype=object))\n",
    "np.testing.assert_equal(conf.loc[1, 1], 3)\n",
    "np.testing.assert_equal(conf.loc[\"Другое\", 2], 1)"
   ]
  },
  {
   "cell_type": "code",
   "execution_count": null,
   "id": "faf6a93b",
   "metadata": {
    "deletable": false,
    "editable": false,
    "nbgrader": {
     "cell_type": "code",
     "checksum": "bc7bc348be837b14a1c02999c9420c3a",
     "grade": true,
     "grade_id": "cell-90796b96652229ad",
     "locked": true,
     "points": 1,
     "schema_version": 3,
     "solution": false,
     "task": false
    }
   },
   "outputs": [],
   "source": [
    "# Another test\n",
    "y_true = [0, 1, 1, 2, 2, 3, 1, 1, 2, 1, 0]\n",
    "y_pred = [1, 1, 1, 3, 2, 3, 1, 0, 4, 1, 2]\n",
    "\n",
    "true_classes = [0, 3]\n",
    "pred_classes = [1, 2]\n",
    "\n",
    "conf = custom_confusion_matrix(y_true, y_pred, true_classes, pred_classes)\n",
    "np.testing.assert_array_equal(conf, [[1, 1, 0], [0, 0, 1], [4, 1, 3]]) \n",
    "\n"
   ]
  },
  {
   "cell_type": "markdown",
   "id": "5b74dc08",
   "metadata": {
    "deletable": false,
    "editable": false,
    "nbgrader": {
     "cell_type": "markdown",
     "checksum": "77d19b96b6173847b7968fa5b57fc83c",
     "grade": false,
     "grade_id": "cell-6d0e05e635be58fd",
     "locked": true,
     "schema_version": 3,
     "solution": false,
     "task": false
    }
   },
   "source": [
    "### Задание 6\n",
    "\n",
    "Напишите функцию, которая принимает вектор предсказаний и возвращает индексы примеров, в которых модель совершила ошибки. Обратите внимание, что входной вектор может быть как обычным list или tuple, так и pd.Series. Вернуть необходимо индексы (index) из исходного y_true."
   ]
  },
  {
   "cell_type": "code",
   "execution_count": null,
   "id": "349e7ccc",
   "metadata": {
    "deletable": false,
    "nbgrader": {
     "cell_type": "code",
     "checksum": "ad519f381c458d15fcf2d993281c1e1c",
     "grade": false,
     "grade_id": "cell-05d50ced32c904e1",
     "locked": false,
     "schema_version": 3,
     "solution": true,
     "task": false
    }
   },
   "outputs": [],
   "source": [
    "def get_error_indexes(y_true: pd.Series, y_pred: Union[list, tuple, pd.Series]) -> pd.DataFrame:\n",
    "    arr=[]\n",
    "    for i in range(len(y_true)):\n",
    "        if y_true[y_true.index[i]]!=y_pred[i]:\n",
    "            arr.append(y_true.index[i])\n",
    "    return arr"
   ]
  },
  {
   "cell_type": "code",
   "execution_count": null,
   "id": "c8c19be7",
   "metadata": {
    "deletable": false,
    "editable": false,
    "nbgrader": {
     "cell_type": "code",
     "checksum": "c06f0593fadb0c65e61b865a83dfe43c",
     "grade": true,
     "grade_id": "cell-f90eb36e2348451e",
     "locked": true,
     "points": 1,
     "schema_version": 3,
     "solution": false,
     "task": false
    }
   },
   "outputs": [],
   "source": [
    "X, y = load_iris(as_frame=True, return_X_y=True)\n",
    "\n",
    "y_test = y.iloc[50:60]\n",
    "y_pred = [0, 0, 1, 1, 1, 0, 0, 0, 1, 1]\n",
    "\n",
    "err_idxs = get_error_indexes(y_test, y_pred)\n",
    "np.testing.assert_array_equal(err_idxs, [50, 51, 55, 56, 57])\n"
   ]
  },
  {
   "cell_type": "code",
   "execution_count": null,
   "id": "300e390f",
   "metadata": {
    "deletable": false,
    "editable": false,
    "nbgrader": {
     "cell_type": "code",
     "checksum": "a4011ce91d008934d0cc80374afb4046",
     "grade": true,
     "grade_id": "cell-0255d9b9ba5ea6a7",
     "locked": true,
     "points": 1,
     "schema_version": 3,
     "solution": false,
     "task": false
    }
   },
   "outputs": [],
   "source": [
    "X, y = load_iris(as_frame=True, return_X_y=True)\n",
    "\n",
    "y_test = y.iloc[70:80]\n",
    "y_pred = pd.Series([0, 1, 0, 1, 0, 1, 1, 0, 0, 1])\n",
    "\n",
    "err_idxs = get_error_indexes(y_test, y_pred)\n",
    "\n",
    "np.testing.assert_array_equal(err_idxs, [70, 72, 74, 77, 78])\n"
   ]
  }
 ],
 "metadata": {
  "kernelspec": {
   "display_name": "Python 3 (ipykernel)",
   "language": "python",
   "name": "python3"
  },
  "language_info": {
   "codemirror_mode": {
    "name": "ipython",
    "version": 3
   },
   "file_extension": ".py",
   "mimetype": "text/x-python",
   "name": "python",
   "nbconvert_exporter": "python",
   "pygments_lexer": "ipython3",
   "version": "3.9.9"
  }
 },
 "nbformat": 4,
 "nbformat_minor": 5
}
